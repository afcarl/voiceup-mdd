{
 "cells": [
  {
   "cell_type": "code",
   "execution_count": null,
   "metadata": {
    "collapsed": true
   },
   "outputs": [],
   "source": [
    "import json\n",
    "import requests\n",
    "\n",
    "import numpy as np\n",
    "\n",
    "import datetime\n",
    "\n",
    "# Create dummy results file\n",
    "\n",
    "## About\n",
    "#  May 23, 2016\n",
    "#  Greg Ciccarelli\n",
    "\n",
    "## Ref\n",
    "#http://jtblin.github.io/angular-chart.js/"
   ]
  },
  {
   "cell_type": "code",
   "execution_count": null,
   "metadata": {
    "collapsed": true
   },
   "outputs": [],
   "source": [
    "metadata = {\"version\": \"0.1.0\",\n",
    " \"URL\": \"https://dl.dropbox.com/s/aemu9hsn4brc9ga/new_results_160530.json\"\n",
    "}"
   ]
  },
  {
   "cell_type": "code",
   "execution_count": null,
   "metadata": {
    "collapsed": false
   },
   "outputs": [],
   "source": [
    "results = {\n",
    "    \"results\": {\n",
    "        \"version\": \"0.1.1\",\n",
    "        \"sections\": [\n",
    "            [\n",
    "                {\"id\": \"r1\",\n",
    "                 \"main_type\": \"chart.js\",\n",
    "                 \"type\": \"LineCtrl\", \n",
    "                 \"summary\": \"Mood\",\n",
    "                 \"labels\": [\"Su\", \"M\", \"T\", \"W\", \"R\", \"F\", \"Sa\"],\n",
    "                 \"series\": ['Mood', 'Baseline'],\n",
    "                 \"data\": [[65, 59, 80, 81, 56, 55, 40], [30, 30, 100, 90, 80, 70, 60]  ],             \n",
    "                 },\n",
    "                {\"id\": \"r2\",\n",
    "                 \"main_type\": \"chart.js\",\n",
    "                 \"type\": \"LineCtrl\", \n",
    "                 \"summary\": \"Depression\",\n",
    "                 \"labels\": [20160522115200, 20160523210000, 20160525210000, 20160526010025, \n",
    "                            20160528010000, 20160607010000, 20160607090003],\n",
    "                 \"series\": ['Depression'],\n",
    "                 \"data\": [5, 9, 8, 8, 5, 5, 0],                 \n",
    "                 },     \n",
    "                {\"id\": \"r3\",\n",
    "                 \"main_type\": \"chart.js\",\n",
    "                 \"type\": \"BarCtrl\", \n",
    "                 \"summary\": \"Energy\",\n",
    "                 \"labels\": [20160522115200, 20160523210000, 20160525210000, 20160526010025, \n",
    "                            20160528010000, 20160607010000, 20160607090003],\n",
    "                 \"series\": ['Energy'],\n",
    "                 \"data\": [0, 0, 1.0, 3.1, 5.5, 1, 0],                 \n",
    "                 },\n",
    "                {\"id\": \"r4\",\n",
    "                 \"main_type\": \"chart.js\",\n",
    "                 \"type\": \"RadarCtrl\", \n",
    "                 \"summary\": \"Activity\",\n",
    "                 \"labels\": [\"Concentration\", \"Energy\", \"Mood\", \"Sleep\", \"Movement\"],\n",
    "                 \"series\": ['Past Week', '3 Month Average'],\n",
    "                 \"data\": [[0, 1, 3, 5, 3], [2,2,2,3,4] ]               \n",
    "                 },                \n",
    "                {\"id\": \"r5\",\n",
    "                 \"main_type\": \"chart.js\",\n",
    "                 \"type\": \"DoughnutCtrl\", \n",
    "                 \"summary\": \"phq9\",\n",
    "                 \"labels\": [\"Q1\", \"Q2\", \"Q3\", \"Q4\", \"Q5\",\"Q6\", \"Q7\", \"Q8\", \"Q9\"],\n",
    "                 \"series\": ['phq9'],\n",
    "                 \"data\": [0, 1, 3, 3, 3,2,2,2,3 ]               \n",
    "                 },       \n",
    "                \n",
    "                {\"id\": \"r6\",\n",
    "                 \"main_type\": \"chart.js\",\n",
    "                 \"type\": \"PieCtrl\", \n",
    "                 \"summary\": \"GAD\",\n",
    "                 \"labels\": [\"Q1\", \"Q2\", \"Q3\", \"Q4\", \"Q5\",\"Q6\", \"Q7\"],\n",
    "                 \"series\": ['GAD'],\n",
    "                 \"data\": [0, 3, 3, 1, 0,0,2 ]               \n",
    "                 },                  \n",
    "                \n",
    "                \n",
    "            ],\n",
    "        ]\n",
    "    }\n",
    "    \n",
    "}"
   ]
  },
  {
   "cell_type": "code",
   "execution_count": null,
   "metadata": {
    "collapsed": false,
    "scrolled": true
   },
   "outputs": [],
   "source": [
    "full_dict = {}\n",
    "full_dict.update(results)\n",
    "\n",
    "time_str = datetime.datetime.now().strftime('%Y%m%d%H%M%S')\n",
    "\n",
    "print(json.dumps(full_dict, sort_keys=True, indent=4))\n",
    "with open('results_example_' + time_str + '.json', 'wt') as fp:\n",
    "    json.dump(full_dict, fp, sort_keys=True, indent=2)"
   ]
  },
  {
   "cell_type": "code",
   "execution_count": null,
   "metadata": {
    "collapsed": false
   },
   "outputs": [],
   "source": [
    "#print old_consent"
   ]
  }
 ],
 "metadata": {
  "kernelspec": {
   "display_name": "Python 2",
   "language": "python",
   "name": "python2"
  },
  "language_info": {
   "codemirror_mode": {
    "name": "ipython",
    "version": 2
   },
   "file_extension": ".py",
   "mimetype": "text/x-python",
   "name": "python",
   "nbconvert_exporter": "python",
   "pygments_lexer": "ipython2",
   "version": "2.7.11"
  }
 },
 "nbformat": 4,
 "nbformat_minor": 0
}
